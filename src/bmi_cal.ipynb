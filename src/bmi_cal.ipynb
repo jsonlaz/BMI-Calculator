{
 "cells": [
  {
   "cell_type": "code",
   "execution_count": null,
   "metadata": {},
   "outputs": [],
   "source": [
    "name = input(\"Enter your first name: \")\n",
    "\n",
    "height = float(input(\"Enter your height in centimeters: \"))\n",
    "\n",
    "weight = float(input(\"Enter your weight in kilogram: \"))\n",
    "\n",
    "# Calculate BMI\n",
    "BMI_cal = (weight) / (height/100)**2\n",
    "\n",
    "BMI = round(BMI_cal, 1)\n",
    "\n",
    "# Display the BMI\n",
    "print(f\"{name}, your BMI is {BMI}.\")\n",
    "\n",
    "# Categorize BMI\n",
    "if BMI > 0:\n",
    "    if (BMI < 16):\n",
    "        print(name + \", you are severely thin.\")\n",
    "    elif (BMI < 17):\n",
    "        print(name + \", you are moderately thin.\")\n",
    "    elif (BMI < 18.5):\n",
    "        print(name + \", you are mildly thin.\")\n",
    "    elif (BMI < 25):\n",
    "        print(name + \", you are normal.\")\n",
    "    elif (BMI < 30):\n",
    "        print(name + \", you are overweight.\")\n",
    "    elif (BMI < 35):\n",
    "        print(name + \", you are obese class I.\")\n",
    "    elif (BMI <= 40):\n",
    "        print(name + \", you are obese class II.\")\n",
    "    else:\n",
    "        print(name + \", you are obese class III.\")\n",
    "else:\n",
    "    print(\"Please enter valid input values for height and weight.\")"
   ]
  }
 ],
 "metadata": {
  "kernelspec": {
   "display_name": "Python 3",
   "language": "python",
   "name": "python3"
  },
  "language_info": {
   "codemirror_mode": {
    "name": "ipython",
    "version": 3
   },
   "file_extension": ".py",
   "mimetype": "text/x-python",
   "name": "python",
   "nbconvert_exporter": "python",
   "pygments_lexer": "ipython3",
   "version": "3.9.7"
  }
 },
 "nbformat": 4,
 "nbformat_minor": 5
}
